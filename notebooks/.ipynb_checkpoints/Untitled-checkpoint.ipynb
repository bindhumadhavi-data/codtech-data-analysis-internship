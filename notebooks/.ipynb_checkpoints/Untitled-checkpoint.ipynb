{
 "cells": [
  {
   "cell_type": "code",
   "execution_count": null,
   "id": "6e88bb74-8d3e-4678-9932-d9253537c0d0",
   "metadata": {},
   "outputs": [],
   "source": [
    "print(\"Hello, Internship Setup Successful!\")"
   ]
  },
  {
   "cell_type": "code",
   "execution_count": null,
   "id": "89e949ed-4bc4-4c2d-a073-d1188d73b2f4",
   "metadata": {},
   "outputs": [],
   "source": []
  }
 ],
 "metadata": {
  "kernelspec": {
   "display_name": "",
   "name": ""
  },
  "language_info": {
   "name": ""
  }
 },
 "nbformat": 4,
 "nbformat_minor": 5
}
