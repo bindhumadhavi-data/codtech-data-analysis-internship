{
 "cells": [
  {
   "cell_type": "code",
   "execution_count": 2,
   "id": "6e88bb74-8d3e-4678-9932-d9253537c0d0",
   "metadata": {},
   "outputs": [
    {
     "name": "stdout",
     "output_type": "stream",
     "text": [
      "Hello, Internship Setup Successful!\n"
     ]
    }
   ],
   "source": [
    "print(\"Hello, Internship Setup Successful!\")"
   ]
  }
 ],
 "metadata": {
  "kernelspec": {
   "display_name": "Python 3 (ipykernel)",
   "language": "python",
   "name": "python3"
  },
  "language_info": {
   "codemirror_mode": {
    "name": "ipython",
    "version": 3
   },
   "file_extension": ".py",
   "mimetype": "text/x-python",
   "name": "python",
   "nbconvert_exporter": "python",
   "pygments_lexer": "ipython3",
   "version": "3.13.5"
  }
 },
 "nbformat": 4,
 "nbformat_minor": 5
}
